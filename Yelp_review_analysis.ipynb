{
  "nbformat": 4,
  "nbformat_minor": 0,
  "metadata": {
    "colab": {
      "name": "Yelp review analysis.ipynb",
      "provenance": [],
      "collapsed_sections": [],
      "authorship_tag": "ABX9TyOXdCjTAgw96bzGgZCnXk/v",
      "include_colab_link": true
    },
    "kernelspec": {
      "name": "python3",
      "display_name": "Python 3"
    }
  },
  "cells": [
    {
      "cell_type": "markdown",
      "metadata": {
        "id": "view-in-github",
        "colab_type": "text"
      },
      "source": [
        "<a href=\"https://colab.research.google.com/github/khadeejarameen/Yelp_review-analysis/blob/main/Yelp_review_analysis.ipynb\" target=\"_parent\"><img src=\"https://colab.research.google.com/assets/colab-badge.svg\" alt=\"Open In Colab\"/></a>"
      ]
    },
    {
      "cell_type": "code",
      "metadata": {
        "colab": {
          "base_uri": "https://localhost:8080/"
        },
        "id": "l-8vRDtUoCoJ",
        "outputId": "ce1bbeb1-67d8-41f5-cc96-fa0504935621"
      },
      "source": [
        "#Connect to google drive\r\n",
        "from google.colab import drive\r\n",
        "drive.mount(\"/content/gdrive\")"
      ],
      "execution_count": 3,
      "outputs": [
        {
          "output_type": "stream",
          "text": [
            "Mounted at /content/gdrive\n"
          ],
          "name": "stdout"
        }
      ]
    },
    {
      "cell_type": "code",
      "metadata": {
        "colab": {
          "base_uri": "https://localhost:8080/",
          "height": 878
        },
        "id": "07uKfSGMvy-1",
        "outputId": "63ea64ef-f68e-4062-e134-47810e29c6d3"
      },
      "source": [
        "import pandas as pd\r\n",
        "df_master=pd.read_csv('/content/gdrive/MyDrive/Yelp Dataset/yelp.csv',encoding='latin=1',index_col=0)\r\n",
        "df_master"
      ],
      "execution_count": 5,
      "outputs": [
        {
          "output_type": "execute_result",
          "data": {
            "text/html": [
              "<div>\n",
              "<style scoped>\n",
              "    .dataframe tbody tr th:only-of-type {\n",
              "        vertical-align: middle;\n",
              "    }\n",
              "\n",
              "    .dataframe tbody tr th {\n",
              "        vertical-align: top;\n",
              "    }\n",
              "\n",
              "    .dataframe thead th {\n",
              "        text-align: right;\n",
              "    }\n",
              "</style>\n",
              "<table border=\"1\" class=\"dataframe\">\n",
              "  <thead>\n",
              "    <tr style=\"text-align: right;\">\n",
              "      <th></th>\n",
              "      <th>date</th>\n",
              "      <th>review_id</th>\n",
              "      <th>stars</th>\n",
              "      <th>text</th>\n",
              "      <th>type</th>\n",
              "      <th>user_id</th>\n",
              "      <th>cool</th>\n",
              "      <th>useful</th>\n",
              "      <th>funny</th>\n",
              "    </tr>\n",
              "    <tr>\n",
              "      <th>business_id</th>\n",
              "      <th></th>\n",
              "      <th></th>\n",
              "      <th></th>\n",
              "      <th></th>\n",
              "      <th></th>\n",
              "      <th></th>\n",
              "      <th></th>\n",
              "      <th></th>\n",
              "      <th></th>\n",
              "    </tr>\n",
              "  </thead>\n",
              "  <tbody>\n",
              "    <tr>\n",
              "      <th>9yKzy9PApeiPPOUJEtnvkg</th>\n",
              "      <td>2011-01-26</td>\n",
              "      <td>fWKvX83p0-ka4JS3dc6E5A</td>\n",
              "      <td>5</td>\n",
              "      <td>My wife took me here on my birthday for breakf...</td>\n",
              "      <td>review</td>\n",
              "      <td>rLtl8ZkDX5vH5nAx9C3q5Q</td>\n",
              "      <td>2</td>\n",
              "      <td>5</td>\n",
              "      <td>0</td>\n",
              "    </tr>\n",
              "    <tr>\n",
              "      <th>ZRJwVLyzEJq1VAihDhYiow</th>\n",
              "      <td>2011-07-27</td>\n",
              "      <td>IjZ33sJrzXqU-0X6U8NwyA</td>\n",
              "      <td>5</td>\n",
              "      <td>I have no idea why some people give bad review...</td>\n",
              "      <td>review</td>\n",
              "      <td>0a2KyEL0d3Yb1V6aivbIuQ</td>\n",
              "      <td>0</td>\n",
              "      <td>0</td>\n",
              "      <td>0</td>\n",
              "    </tr>\n",
              "    <tr>\n",
              "      <th>6oRAC4uyJCsJl1X0WZpVSA</th>\n",
              "      <td>2012-06-14</td>\n",
              "      <td>IESLBzqUCLdSzSqm0eCSxQ</td>\n",
              "      <td>4</td>\n",
              "      <td>love the gyro plate. Rice is so good and I als...</td>\n",
              "      <td>review</td>\n",
              "      <td>0hT2KtfLiobPvh6cDC8JQg</td>\n",
              "      <td>0</td>\n",
              "      <td>1</td>\n",
              "      <td>0</td>\n",
              "    </tr>\n",
              "    <tr>\n",
              "      <th>_1QQZuf4zZOyFCvXc0o6Vg</th>\n",
              "      <td>2010-05-27</td>\n",
              "      <td>G-WvGaISbqqaMHlNnByodA</td>\n",
              "      <td>5</td>\n",
              "      <td>Rosie, Dakota, and I LOVE Chaparral Dog Park!!...</td>\n",
              "      <td>review</td>\n",
              "      <td>uZetl9T0NcROGOyFfughhg</td>\n",
              "      <td>1</td>\n",
              "      <td>2</td>\n",
              "      <td>0</td>\n",
              "    </tr>\n",
              "    <tr>\n",
              "      <th>6ozycU1RpktNG2-1BroVtw</th>\n",
              "      <td>2012-01-05</td>\n",
              "      <td>1uJFq2r5QfJG_6ExMRCaGw</td>\n",
              "      <td>5</td>\n",
              "      <td>General Manager Scott Petello is a good egg!!!...</td>\n",
              "      <td>review</td>\n",
              "      <td>vYmM4KTsC8ZfQBg-j5MWkw</td>\n",
              "      <td>0</td>\n",
              "      <td>0</td>\n",
              "      <td>0</td>\n",
              "    </tr>\n",
              "    <tr>\n",
              "      <th>...</th>\n",
              "      <td>...</td>\n",
              "      <td>...</td>\n",
              "      <td>...</td>\n",
              "      <td>...</td>\n",
              "      <td>...</td>\n",
              "      <td>...</td>\n",
              "      <td>...</td>\n",
              "      <td>...</td>\n",
              "      <td>...</td>\n",
              "    </tr>\n",
              "    <tr>\n",
              "      <th>VY_tvNUCCXGXQeSvJl757Q</th>\n",
              "      <td>2012-07-28</td>\n",
              "      <td>Ubyfp2RSDYW0g7Mbr8N3iA</td>\n",
              "      <td>3</td>\n",
              "      <td>First visit...Had lunch here today - used my G...</td>\n",
              "      <td>review</td>\n",
              "      <td>_eqQoPtQ3e3UxLE4faT6ow</td>\n",
              "      <td>1</td>\n",
              "      <td>2</td>\n",
              "      <td>0</td>\n",
              "    </tr>\n",
              "    <tr>\n",
              "      <th>EKzMHI1tip8rC1-ZAy64yg</th>\n",
              "      <td>2012-01-18</td>\n",
              "      <td>2XyIOQKbVFb6uXQdJ0RzlQ</td>\n",
              "      <td>4</td>\n",
              "      <td>Should be called house of deliciousness!\\n\\nI ...</td>\n",
              "      <td>review</td>\n",
              "      <td>ROru4uk5SaYc3rg8IU7SQw</td>\n",
              "      <td>0</td>\n",
              "      <td>0</td>\n",
              "      <td>0</td>\n",
              "    </tr>\n",
              "    <tr>\n",
              "      <th>53YGfwmbW73JhFiemNeyzQ</th>\n",
              "      <td>2010-11-16</td>\n",
              "      <td>jyznYkIbpqVmlsZxSDSypA</td>\n",
              "      <td>4</td>\n",
              "      <td>I recently visited Olive and Ivy for business ...</td>\n",
              "      <td>review</td>\n",
              "      <td>gGbN1aKQHMgfQZkqlsuwzg</td>\n",
              "      <td>0</td>\n",
              "      <td>0</td>\n",
              "      <td>0</td>\n",
              "    </tr>\n",
              "    <tr>\n",
              "      <th>9SKdOoDHcFoxK5ZtsgHJoA</th>\n",
              "      <td>2012-12-02</td>\n",
              "      <td>5UKq9WQE1qQbJ0DJbc-B6Q</td>\n",
              "      <td>2</td>\n",
              "      <td>My nephew just moved to Scottsdale recently so...</td>\n",
              "      <td>review</td>\n",
              "      <td>0lyVoNazXa20WzUyZPLaQQ</td>\n",
              "      <td>0</td>\n",
              "      <td>0</td>\n",
              "      <td>0</td>\n",
              "    </tr>\n",
              "    <tr>\n",
              "      <th>pF7uRzygyZsltbmVpjIyvw</th>\n",
              "      <td>2010-10-16</td>\n",
              "      <td>vWSmOhg2ID1MNZHaWapGbA</td>\n",
              "      <td>5</td>\n",
              "      <td>4-5 locations.. all 4.5 star average.. I think...</td>\n",
              "      <td>review</td>\n",
              "      <td>KSBFytcdjPKZgXKQnYQdkA</td>\n",
              "      <td>0</td>\n",
              "      <td>0</td>\n",
              "      <td>0</td>\n",
              "    </tr>\n",
              "  </tbody>\n",
              "</table>\n",
              "<p>10000 rows × 9 columns</p>\n",
              "</div>"
            ],
            "text/plain": [
              "                              date               review_id  ...  useful funny\n",
              "business_id                                                 ...              \n",
              "9yKzy9PApeiPPOUJEtnvkg  2011-01-26  fWKvX83p0-ka4JS3dc6E5A  ...       5     0\n",
              "ZRJwVLyzEJq1VAihDhYiow  2011-07-27  IjZ33sJrzXqU-0X6U8NwyA  ...       0     0\n",
              "6oRAC4uyJCsJl1X0WZpVSA  2012-06-14  IESLBzqUCLdSzSqm0eCSxQ  ...       1     0\n",
              "_1QQZuf4zZOyFCvXc0o6Vg  2010-05-27  G-WvGaISbqqaMHlNnByodA  ...       2     0\n",
              "6ozycU1RpktNG2-1BroVtw  2012-01-05  1uJFq2r5QfJG_6ExMRCaGw  ...       0     0\n",
              "...                            ...                     ...  ...     ...   ...\n",
              "VY_tvNUCCXGXQeSvJl757Q  2012-07-28  Ubyfp2RSDYW0g7Mbr8N3iA  ...       2     0\n",
              "EKzMHI1tip8rC1-ZAy64yg  2012-01-18  2XyIOQKbVFb6uXQdJ0RzlQ  ...       0     0\n",
              "53YGfwmbW73JhFiemNeyzQ  2010-11-16  jyznYkIbpqVmlsZxSDSypA  ...       0     0\n",
              "9SKdOoDHcFoxK5ZtsgHJoA  2012-12-02  5UKq9WQE1qQbJ0DJbc-B6Q  ...       0     0\n",
              "pF7uRzygyZsltbmVpjIyvw  2010-10-16  vWSmOhg2ID1MNZHaWapGbA  ...       0     0\n",
              "\n",
              "[10000 rows x 9 columns]"
            ]
          },
          "metadata": {
            "tags": []
          },
          "execution_count": 5
        }
      ]
    },
    {
      "cell_type": "code",
      "metadata": {
        "colab": {
          "base_uri": "https://localhost:8080/",
          "height": 920
        },
        "id": "l5dzQ5NCw7lI",
        "outputId": "69c3312d-780a-42d0-83e6-b134b8123fb5"
      },
      "source": [
        "import numpy as np\r\n",
        "import matplotlib.pyplot as plt\r\n",
        "import seaborn as sns\r\n",
        "import nltk\r\n",
        "import nltk\r\n",
        "nltk.download('stopwords')\r\n",
        "from nltk.corpus import stopwords\r\n",
        "import string\r\n",
        "import math\r\n",
        "from sklearn.feature_extraction.text import CountVectorizer\r\n",
        "from sklearn.model_selection import train_test_split, cross_val_score\r\n",
        "from sklearn.metrics import classification_report\r\n",
        "from sklearn.metrics import confusion_matrix, accuracy_score, roc_auc_score, roc_curve\r\n",
        "data = pd.read_csv('/content/gdrive/MyDrive/Yelp Dataset/yelp.csv',encoding='latin=1',index_col=0)\r\n",
        "# SHAPE OF THE DATASET\r\n",
        "print(\"Shape of the dataset:\")\r\n",
        "print(data.shape)\r\n",
        "# COLUMN NAMES\r\n",
        "print(\"Column names:\")\r\n",
        "print(data.columns)\r\n",
        "# DATATYPE OF EACH COLUMN\r\n",
        "print(\"Datatype of each column:\")\r\n",
        "print(data.dtypes)\r\n",
        "# SEEING FEW OF THE ENTRIES\r\n",
        "print(\"Few dataset entries:\")\r\n",
        "print(data.head())\r\n",
        "# DATASET SUMMARY\r\n",
        "data.describe(include='all')"
      ],
      "execution_count": 20,
      "outputs": [
        {
          "output_type": "stream",
          "text": [
            "[nltk_data] Downloading package stopwords to /root/nltk_data...\n",
            "[nltk_data]   Unzipping corpora/stopwords.zip.\n",
            "Shape of the dataset:\n",
            "(10000, 9)\n",
            "Column names:\n",
            "Index(['date', 'review_id', 'stars', 'text', 'type', 'user_id', 'cool',\n",
            "       'useful', 'funny'],\n",
            "      dtype='object')\n",
            "Datatype of each column:\n",
            "date         object\n",
            "review_id    object\n",
            "stars         int64\n",
            "text         object\n",
            "type         object\n",
            "user_id      object\n",
            "cool          int64\n",
            "useful        int64\n",
            "funny         int64\n",
            "dtype: object\n",
            "Few dataset entries:\n",
            "                              date               review_id  ...  useful funny\n",
            "business_id                                                 ...              \n",
            "9yKzy9PApeiPPOUJEtnvkg  2011-01-26  fWKvX83p0-ka4JS3dc6E5A  ...       5     0\n",
            "ZRJwVLyzEJq1VAihDhYiow  2011-07-27  IjZ33sJrzXqU-0X6U8NwyA  ...       0     0\n",
            "6oRAC4uyJCsJl1X0WZpVSA  2012-06-14  IESLBzqUCLdSzSqm0eCSxQ  ...       1     0\n",
            "_1QQZuf4zZOyFCvXc0o6Vg  2010-05-27  G-WvGaISbqqaMHlNnByodA  ...       2     0\n",
            "6ozycU1RpktNG2-1BroVtw  2012-01-05  1uJFq2r5QfJG_6ExMRCaGw  ...       0     0\n",
            "\n",
            "[5 rows x 9 columns]\n"
          ],
          "name": "stdout"
        },
        {
          "output_type": "execute_result",
          "data": {
            "text/html": [
              "<div>\n",
              "<style scoped>\n",
              "    .dataframe tbody tr th:only-of-type {\n",
              "        vertical-align: middle;\n",
              "    }\n",
              "\n",
              "    .dataframe tbody tr th {\n",
              "        vertical-align: top;\n",
              "    }\n",
              "\n",
              "    .dataframe thead th {\n",
              "        text-align: right;\n",
              "    }\n",
              "</style>\n",
              "<table border=\"1\" class=\"dataframe\">\n",
              "  <thead>\n",
              "    <tr style=\"text-align: right;\">\n",
              "      <th></th>\n",
              "      <th>date</th>\n",
              "      <th>review_id</th>\n",
              "      <th>stars</th>\n",
              "      <th>text</th>\n",
              "      <th>type</th>\n",
              "      <th>user_id</th>\n",
              "      <th>cool</th>\n",
              "      <th>useful</th>\n",
              "      <th>funny</th>\n",
              "    </tr>\n",
              "  </thead>\n",
              "  <tbody>\n",
              "    <tr>\n",
              "      <th>count</th>\n",
              "      <td>10000</td>\n",
              "      <td>10000</td>\n",
              "      <td>10000.000000</td>\n",
              "      <td>10000</td>\n",
              "      <td>10000</td>\n",
              "      <td>10000</td>\n",
              "      <td>10000.000000</td>\n",
              "      <td>10000.000000</td>\n",
              "      <td>10000.000000</td>\n",
              "    </tr>\n",
              "    <tr>\n",
              "      <th>unique</th>\n",
              "      <td>1995</td>\n",
              "      <td>10000</td>\n",
              "      <td>NaN</td>\n",
              "      <td>9998</td>\n",
              "      <td>1</td>\n",
              "      <td>6403</td>\n",
              "      <td>NaN</td>\n",
              "      <td>NaN</td>\n",
              "      <td>NaN</td>\n",
              "    </tr>\n",
              "    <tr>\n",
              "      <th>top</th>\n",
              "      <td>2011-03-28</td>\n",
              "      <td>08nAk1WzdtHyAIKEN2cO9g</td>\n",
              "      <td>NaN</td>\n",
              "      <td>Great service</td>\n",
              "      <td>review</td>\n",
              "      <td>fczQCSmaWF78toLEmb0Zsw</td>\n",
              "      <td>NaN</td>\n",
              "      <td>NaN</td>\n",
              "      <td>NaN</td>\n",
              "    </tr>\n",
              "    <tr>\n",
              "      <th>freq</th>\n",
              "      <td>21</td>\n",
              "      <td>1</td>\n",
              "      <td>NaN</td>\n",
              "      <td>2</td>\n",
              "      <td>10000</td>\n",
              "      <td>38</td>\n",
              "      <td>NaN</td>\n",
              "      <td>NaN</td>\n",
              "      <td>NaN</td>\n",
              "    </tr>\n",
              "    <tr>\n",
              "      <th>mean</th>\n",
              "      <td>NaN</td>\n",
              "      <td>NaN</td>\n",
              "      <td>3.777500</td>\n",
              "      <td>NaN</td>\n",
              "      <td>NaN</td>\n",
              "      <td>NaN</td>\n",
              "      <td>0.876800</td>\n",
              "      <td>1.409300</td>\n",
              "      <td>0.701300</td>\n",
              "    </tr>\n",
              "    <tr>\n",
              "      <th>std</th>\n",
              "      <td>NaN</td>\n",
              "      <td>NaN</td>\n",
              "      <td>1.214636</td>\n",
              "      <td>NaN</td>\n",
              "      <td>NaN</td>\n",
              "      <td>NaN</td>\n",
              "      <td>2.067861</td>\n",
              "      <td>2.336647</td>\n",
              "      <td>1.907942</td>\n",
              "    </tr>\n",
              "    <tr>\n",
              "      <th>min</th>\n",
              "      <td>NaN</td>\n",
              "      <td>NaN</td>\n",
              "      <td>1.000000</td>\n",
              "      <td>NaN</td>\n",
              "      <td>NaN</td>\n",
              "      <td>NaN</td>\n",
              "      <td>0.000000</td>\n",
              "      <td>0.000000</td>\n",
              "      <td>0.000000</td>\n",
              "    </tr>\n",
              "    <tr>\n",
              "      <th>25%</th>\n",
              "      <td>NaN</td>\n",
              "      <td>NaN</td>\n",
              "      <td>3.000000</td>\n",
              "      <td>NaN</td>\n",
              "      <td>NaN</td>\n",
              "      <td>NaN</td>\n",
              "      <td>0.000000</td>\n",
              "      <td>0.000000</td>\n",
              "      <td>0.000000</td>\n",
              "    </tr>\n",
              "    <tr>\n",
              "      <th>50%</th>\n",
              "      <td>NaN</td>\n",
              "      <td>NaN</td>\n",
              "      <td>4.000000</td>\n",
              "      <td>NaN</td>\n",
              "      <td>NaN</td>\n",
              "      <td>NaN</td>\n",
              "      <td>0.000000</td>\n",
              "      <td>1.000000</td>\n",
              "      <td>0.000000</td>\n",
              "    </tr>\n",
              "    <tr>\n",
              "      <th>75%</th>\n",
              "      <td>NaN</td>\n",
              "      <td>NaN</td>\n",
              "      <td>5.000000</td>\n",
              "      <td>NaN</td>\n",
              "      <td>NaN</td>\n",
              "      <td>NaN</td>\n",
              "      <td>1.000000</td>\n",
              "      <td>2.000000</td>\n",
              "      <td>1.000000</td>\n",
              "    </tr>\n",
              "    <tr>\n",
              "      <th>max</th>\n",
              "      <td>NaN</td>\n",
              "      <td>NaN</td>\n",
              "      <td>5.000000</td>\n",
              "      <td>NaN</td>\n",
              "      <td>NaN</td>\n",
              "      <td>NaN</td>\n",
              "      <td>77.000000</td>\n",
              "      <td>76.000000</td>\n",
              "      <td>57.000000</td>\n",
              "    </tr>\n",
              "  </tbody>\n",
              "</table>\n",
              "</div>"
            ],
            "text/plain": [
              "              date               review_id  ...        useful         funny\n",
              "count        10000                   10000  ...  10000.000000  10000.000000\n",
              "unique        1995                   10000  ...           NaN           NaN\n",
              "top     2011-03-28  08nAk1WzdtHyAIKEN2cO9g  ...           NaN           NaN\n",
              "freq            21                       1  ...           NaN           NaN\n",
              "mean           NaN                     NaN  ...      1.409300      0.701300\n",
              "std            NaN                     NaN  ...      2.336647      1.907942\n",
              "min            NaN                     NaN  ...      0.000000      0.000000\n",
              "25%            NaN                     NaN  ...      0.000000      0.000000\n",
              "50%            NaN                     NaN  ...      1.000000      0.000000\n",
              "75%            NaN                     NaN  ...      2.000000      1.000000\n",
              "max            NaN                     NaN  ...     76.000000     57.000000\n",
              "\n",
              "[11 rows x 9 columns]"
            ]
          },
          "metadata": {
            "tags": []
          },
          "execution_count": 20
        }
      ]
    },
    {
      "cell_type": "code",
      "metadata": {
        "colab": {
          "base_uri": "https://localhost:8080/",
          "height": 714
        },
        "id": "DCAHi5y8yqEH",
        "outputId": "154404d6-3a8e-4190-a266-3de68ad5a763"
      },
      "source": [
        "#CREATING A NEW COLUMN IN THE DATASET FOR THE NUMBER OF WORDS IN THE REVIEW\r\n",
        "data['length'] = data['text'].apply(len)\r\n",
        "data.head()"
      ],
      "execution_count": 12,
      "outputs": [
        {
          "output_type": "execute_result",
          "data": {
            "text/html": [
              "<div>\n",
              "<style scoped>\n",
              "    .dataframe tbody tr th:only-of-type {\n",
              "        vertical-align: middle;\n",
              "    }\n",
              "\n",
              "    .dataframe tbody tr th {\n",
              "        vertical-align: top;\n",
              "    }\n",
              "\n",
              "    .dataframe thead th {\n",
              "        text-align: right;\n",
              "    }\n",
              "</style>\n",
              "<table border=\"1\" class=\"dataframe\">\n",
              "  <thead>\n",
              "    <tr style=\"text-align: right;\">\n",
              "      <th></th>\n",
              "      <th>date</th>\n",
              "      <th>review_id</th>\n",
              "      <th>stars</th>\n",
              "      <th>text</th>\n",
              "      <th>type</th>\n",
              "      <th>user_id</th>\n",
              "      <th>cool</th>\n",
              "      <th>useful</th>\n",
              "      <th>funny</th>\n",
              "      <th>length</th>\n",
              "    </tr>\n",
              "    <tr>\n",
              "      <th>business_id</th>\n",
              "      <th></th>\n",
              "      <th></th>\n",
              "      <th></th>\n",
              "      <th></th>\n",
              "      <th></th>\n",
              "      <th></th>\n",
              "      <th></th>\n",
              "      <th></th>\n",
              "      <th></th>\n",
              "      <th></th>\n",
              "    </tr>\n",
              "  </thead>\n",
              "  <tbody>\n",
              "    <tr>\n",
              "      <th>9yKzy9PApeiPPOUJEtnvkg</th>\n",
              "      <td>2011-01-26</td>\n",
              "      <td>fWKvX83p0-ka4JS3dc6E5A</td>\n",
              "      <td>5</td>\n",
              "      <td>My wife took me here on my birthday for breakf...</td>\n",
              "      <td>review</td>\n",
              "      <td>rLtl8ZkDX5vH5nAx9C3q5Q</td>\n",
              "      <td>2</td>\n",
              "      <td>5</td>\n",
              "      <td>0</td>\n",
              "      <td>889</td>\n",
              "    </tr>\n",
              "    <tr>\n",
              "      <th>ZRJwVLyzEJq1VAihDhYiow</th>\n",
              "      <td>2011-07-27</td>\n",
              "      <td>IjZ33sJrzXqU-0X6U8NwyA</td>\n",
              "      <td>5</td>\n",
              "      <td>I have no idea why some people give bad review...</td>\n",
              "      <td>review</td>\n",
              "      <td>0a2KyEL0d3Yb1V6aivbIuQ</td>\n",
              "      <td>0</td>\n",
              "      <td>0</td>\n",
              "      <td>0</td>\n",
              "      <td>1345</td>\n",
              "    </tr>\n",
              "    <tr>\n",
              "      <th>6oRAC4uyJCsJl1X0WZpVSA</th>\n",
              "      <td>2012-06-14</td>\n",
              "      <td>IESLBzqUCLdSzSqm0eCSxQ</td>\n",
              "      <td>4</td>\n",
              "      <td>love the gyro plate. Rice is so good and I als...</td>\n",
              "      <td>review</td>\n",
              "      <td>0hT2KtfLiobPvh6cDC8JQg</td>\n",
              "      <td>0</td>\n",
              "      <td>1</td>\n",
              "      <td>0</td>\n",
              "      <td>76</td>\n",
              "    </tr>\n",
              "    <tr>\n",
              "      <th>_1QQZuf4zZOyFCvXc0o6Vg</th>\n",
              "      <td>2010-05-27</td>\n",
              "      <td>G-WvGaISbqqaMHlNnByodA</td>\n",
              "      <td>5</td>\n",
              "      <td>Rosie, Dakota, and I LOVE Chaparral Dog Park!!...</td>\n",
              "      <td>review</td>\n",
              "      <td>uZetl9T0NcROGOyFfughhg</td>\n",
              "      <td>1</td>\n",
              "      <td>2</td>\n",
              "      <td>0</td>\n",
              "      <td>419</td>\n",
              "    </tr>\n",
              "    <tr>\n",
              "      <th>6ozycU1RpktNG2-1BroVtw</th>\n",
              "      <td>2012-01-05</td>\n",
              "      <td>1uJFq2r5QfJG_6ExMRCaGw</td>\n",
              "      <td>5</td>\n",
              "      <td>General Manager Scott Petello is a good egg!!!...</td>\n",
              "      <td>review</td>\n",
              "      <td>vYmM4KTsC8ZfQBg-j5MWkw</td>\n",
              "      <td>0</td>\n",
              "      <td>0</td>\n",
              "      <td>0</td>\n",
              "      <td>469</td>\n",
              "    </tr>\n",
              "  </tbody>\n",
              "</table>\n",
              "</div>"
            ],
            "text/plain": [
              "                              date               review_id  ...  funny length\n",
              "business_id                                                 ...              \n",
              "9yKzy9PApeiPPOUJEtnvkg  2011-01-26  fWKvX83p0-ka4JS3dc6E5A  ...      0    889\n",
              "ZRJwVLyzEJq1VAihDhYiow  2011-07-27  IjZ33sJrzXqU-0X6U8NwyA  ...      0   1345\n",
              "6oRAC4uyJCsJl1X0WZpVSA  2012-06-14  IESLBzqUCLdSzSqm0eCSxQ  ...      0     76\n",
              "_1QQZuf4zZOyFCvXc0o6Vg  2010-05-27  G-WvGaISbqqaMHlNnByodA  ...      0    419\n",
              "6ozycU1RpktNG2-1BroVtw  2012-01-05  1uJFq2r5QfJG_6ExMRCaGw  ...      0    469\n",
              "\n",
              "[5 rows x 10 columns]"
            ]
          },
          "metadata": {
            "tags": []
          },
          "execution_count": 12
        }
      ]
    },
    {
      "cell_type": "code",
      "metadata": {
        "colab": {
          "base_uri": "https://localhost:8080/",
          "height": 216
        },
        "id": "xjQPJpEMzC4d",
        "outputId": "ebc0ff0b-15f3-41ac-830d-c1b53abc70cc"
      },
      "source": [
        "# COMPARING TEXT LENGTH TO STARS\r\n",
        "graph = sns.FacetGrid(data=data,col='stars')\r\n",
        "graph.map(plt.hist,'length',bins=50,color='blue')"
      ],
      "execution_count": 13,
      "outputs": [
        {
          "output_type": "execute_result",
          "data": {
            "text/plain": [
              "<seaborn.axisgrid.FacetGrid at 0x7f1fb8dd2110>"
            ]
          },
          "metadata": {
            "tags": []
          },
          "execution_count": 13
        },
        {
          "output_type": "display_data",
          "data": {
            "image/png": "[encoded data removed]",
            "text/plain": [
              "<Figure size 1080x216 with 5 Axes>"
            ]
          },
          "metadata": {
            "tags": [],
            "needs_background": "light"
          }
        }
      ]
    },
    {
      "cell_type": "code",
      "metadata": {
        "colab": {
          "base_uri": "https://localhost:8080/",
          "height": 235
        },
        "id": "HKROFuUuzJUO",
        "outputId": "b26f1fbb-ff9b-4e9f-c703-48ae77ce3189"
      },
      "source": [
        "# GETTING THE MEAN VALUES OF THE VOTE COLUMNS WRT THE STARS ON THE REVIEW\r\n",
        "stval = data.groupby('stars').mean()\r\n",
        "stval"
      ],
      "execution_count": 14,
      "outputs": [
        {
          "output_type": "execute_result",
          "data": {
            "text/html": [
              "<div>\n",
              "<style scoped>\n",
              "    .dataframe tbody tr th:only-of-type {\n",
              "        vertical-align: middle;\n",
              "    }\n",
              "\n",
              "    .dataframe tbody tr th {\n",
              "        vertical-align: top;\n",
              "    }\n",
              "\n",
              "    .dataframe thead th {\n",
              "        text-align: right;\n",
              "    }\n",
              "</style>\n",
              "<table border=\"1\" class=\"dataframe\">\n",
              "  <thead>\n",
              "    <tr style=\"text-align: right;\">\n",
              "      <th></th>\n",
              "      <th>cool</th>\n",
              "      <th>useful</th>\n",
              "      <th>funny</th>\n",
              "      <th>length</th>\n",
              "    </tr>\n",
              "    <tr>\n",
              "      <th>stars</th>\n",
              "      <th></th>\n",
              "      <th></th>\n",
              "      <th></th>\n",
              "      <th></th>\n",
              "    </tr>\n",
              "  </thead>\n",
              "  <tbody>\n",
              "    <tr>\n",
              "      <th>1</th>\n",
              "      <td>0.576769</td>\n",
              "      <td>1.604806</td>\n",
              "      <td>1.056075</td>\n",
              "      <td>826.524700</td>\n",
              "    </tr>\n",
              "    <tr>\n",
              "      <th>2</th>\n",
              "      <td>0.719525</td>\n",
              "      <td>1.563107</td>\n",
              "      <td>0.875944</td>\n",
              "      <td>842.265372</td>\n",
              "    </tr>\n",
              "    <tr>\n",
              "      <th>3</th>\n",
              "      <td>0.788501</td>\n",
              "      <td>1.306639</td>\n",
              "      <td>0.694730</td>\n",
              "      <td>758.505133</td>\n",
              "    </tr>\n",
              "    <tr>\n",
              "      <th>4</th>\n",
              "      <td>0.954623</td>\n",
              "      <td>1.395916</td>\n",
              "      <td>0.670448</td>\n",
              "      <td>712.944129</td>\n",
              "    </tr>\n",
              "    <tr>\n",
              "      <th>5</th>\n",
              "      <td>0.944261</td>\n",
              "      <td>1.381780</td>\n",
              "      <td>0.608631</td>\n",
              "      <td>625.015583</td>\n",
              "    </tr>\n",
              "  </tbody>\n",
              "</table>\n",
              "</div>"
            ],
            "text/plain": [
              "           cool    useful     funny      length\n",
              "stars                                          \n",
              "1      0.576769  1.604806  1.056075  826.524700\n",
              "2      0.719525  1.563107  0.875944  842.265372\n",
              "3      0.788501  1.306639  0.694730  758.505133\n",
              "4      0.954623  1.395916  0.670448  712.944129\n",
              "5      0.944261  1.381780  0.608631  625.015583"
            ]
          },
          "metadata": {
            "tags": []
          },
          "execution_count": 14
        }
      ]
    },
    {
      "cell_type": "code",
      "metadata": {
        "colab": {
          "base_uri": "https://localhost:8080/",
          "height": 173
        },
        "id": "Dy2hAXZtzW3o",
        "outputId": "b36e19aa-e752-45da-f413-b0d069c4b3db"
      },
      "source": [
        "# FINDING THE CORRELATION BETWEEN THE VOTE COLUMNS\r\n",
        "stval.corr()"
      ],
      "execution_count": 15,
      "outputs": [
        {
          "output_type": "execute_result",
          "data": {
            "text/html": [
              "<div>\n",
              "<style scoped>\n",
              "    .dataframe tbody tr th:only-of-type {\n",
              "        vertical-align: middle;\n",
              "    }\n",
              "\n",
              "    .dataframe tbody tr th {\n",
              "        vertical-align: top;\n",
              "    }\n",
              "\n",
              "    .dataframe thead th {\n",
              "        text-align: right;\n",
              "    }\n",
              "</style>\n",
              "<table border=\"1\" class=\"dataframe\">\n",
              "  <thead>\n",
              "    <tr style=\"text-align: right;\">\n",
              "      <th></th>\n",
              "      <th>cool</th>\n",
              "      <th>useful</th>\n",
              "      <th>funny</th>\n",
              "      <th>length</th>\n",
              "    </tr>\n",
              "  </thead>\n",
              "  <tbody>\n",
              "    <tr>\n",
              "      <th>cool</th>\n",
              "      <td>1.000000</td>\n",
              "      <td>-0.743329</td>\n",
              "      <td>-0.944939</td>\n",
              "      <td>-0.857651</td>\n",
              "    </tr>\n",
              "    <tr>\n",
              "      <th>useful</th>\n",
              "      <td>-0.743329</td>\n",
              "      <td>1.000000</td>\n",
              "      <td>0.894506</td>\n",
              "      <td>0.699895</td>\n",
              "    </tr>\n",
              "    <tr>\n",
              "      <th>funny</th>\n",
              "      <td>-0.944939</td>\n",
              "      <td>0.894506</td>\n",
              "      <td>1.000000</td>\n",
              "      <td>0.843463</td>\n",
              "    </tr>\n",
              "    <tr>\n",
              "      <th>length</th>\n",
              "      <td>-0.857651</td>\n",
              "      <td>0.699895</td>\n",
              "      <td>0.843463</td>\n",
              "      <td>1.000000</td>\n",
              "    </tr>\n",
              "  </tbody>\n",
              "</table>\n",
              "</div>"
            ],
            "text/plain": [
              "            cool    useful     funny    length\n",
              "cool    1.000000 -0.743329 -0.944939 -0.857651\n",
              "useful -0.743329  1.000000  0.894506  0.699895\n",
              "funny  -0.944939  0.894506  1.000000  0.843463\n",
              "length -0.857651  0.699895  0.843463  1.000000"
            ]
          },
          "metadata": {
            "tags": []
          },
          "execution_count": 15
        }
      ]
    },
    {
      "cell_type": "code",
      "metadata": {
        "colab": {
          "base_uri": "https://localhost:8080/"
        },
        "id": "B3YFE-gBzfp1",
        "outputId": "018c5208-d81e-419d-e3b3-0a31f9ce6637"
      },
      "source": [
        "# CLASSIFICATION\r\n",
        "data_classes = data[(data['stars']==1) | (data['stars']==3) | (data['stars']==5)]\r\n",
        "data_classes.head()\r\n",
        "print(data_classes.shape)\r\n",
        "\r\n",
        "# Seperate the dataset into X and Y for prediction\r\n",
        "x = data_classes['text']\r\n",
        "y = data_classes['stars']\r\n",
        "print(x.head())\r\n",
        "print(y.head())"
      ],
      "execution_count": 16,
      "outputs": [
        {
          "output_type": "stream",
          "text": [
            "(5547, 10)\n",
            "business_id\n",
            "9yKzy9PApeiPPOUJEtnvkg    My wife took me here on my birthday for breakf...\n",
            "ZRJwVLyzEJq1VAihDhYiow    I have no idea why some people give bad review...\n",
            "_1QQZuf4zZOyFCvXc0o6Vg    Rosie, Dakota, and I LOVE Chaparral Dog Park!!...\n",
            "6ozycU1RpktNG2-1BroVtw    General Manager Scott Petello is a good egg!!!...\n",
            "zp713qNhx8d9KCJJnrw1xA    Drop what you're doing and drive here. After I...\n",
            "Name: text, dtype: object\n",
            "business_id\n",
            "9yKzy9PApeiPPOUJEtnvkg    5\n",
            "ZRJwVLyzEJq1VAihDhYiow    5\n",
            "_1QQZuf4zZOyFCvXc0o6Vg    5\n",
            "6ozycU1RpktNG2-1BroVtw    5\n",
            "zp713qNhx8d9KCJJnrw1xA    5\n",
            "Name: stars, dtype: int64\n"
          ],
          "name": "stdout"
        }
      ]
    },
    {
      "cell_type": "code",
      "metadata": {
        "id": "4pTcnXW7znvV"
      },
      "source": [
        "# CLEANING THE REVIEWS - REMOVAL OF STOPWORDS AND PUNCTUATION\r\n",
        "def text_process(text):\r\n",
        "    nopunc = [char for char in text if char not in string.punctuation]\r\n",
        "    nopunc = ''.join(nopunc)\r\n",
        "    return [word for word in nopunc.split() if word.lower() not in stopwords.words('english')]"
      ],
      "execution_count": 18,
      "outputs": []
    },
    {
      "cell_type": "code",
      "metadata": {
        "colab": {
          "base_uri": "https://localhost:8080/"
        },
        "id": "Z3WKXSN_zxm2",
        "outputId": "3a3e8a13-641e-42b4-c243-75e08bb07d14"
      },
      "source": [
        "vocab = CountVectorizer(analyzer=text_process).fit(x)\r\n",
        "print(len(vocab.vocabulary_))\r\n",
        "r0 = x[0]\r\n",
        "print(r0)\r\n",
        "vocab0 = vocab.transform([r0])\r\n",
        "print(vocab0)\r\n",
        "\"\"\"\r\n",
        "    Now the words in the review number 78 have been converted into a vector.\r\n",
        "    The data that we can see is the transformed words.\r\n",
        "    If we now get the feature's name - we can get the word back!\r\n",
        "\"\"\"\r\n",
        "print(\"Getting the words back:\")\r\n",
        "print(vocab.get_feature_names()[19648])\r\n",
        "print(vocab.get_feature_names()[10643])"
      ],
      "execution_count": 21,
      "outputs": [
        {
          "output_type": "stream",
          "text": [
            "31336\n",
            "My wife took me here on my birthday for breakfast and it was excellent.  The weather was perfect which made sitting outside overlooking their grounds an absolute pleasure.  Our waitress was excellent and our food arrived quickly on the semi-busy Saturday morning.  It looked like the place fills up pretty quickly so the earlier you get here the better.\n",
            "\n",
            "Do yourself a favor and get their Bloody Mary.  It was phenomenal and simply the best I've ever had.  I'm pretty sure they only use ingredients from their garden and blend them fresh when you order it.  It was amazing.\n",
            "\n",
            "While EVERYTHING on the menu looks excellent, I had the white truffle scrambled eggs vegetable skillet and it was tasty and delicious.  It came with 2 pieces of their griddled bread with was amazing and it absolutely made the meal complete.  It was the best \"toast\" I've ever had.\n",
            "\n",
            "Anyway, I can't wait to go back!\n",
            "  (0, 292)\t1\n",
            "  (0, 1213)\t1\n",
            "  (0, 1811)\t1\n",
            "  (0, 3537)\t1\n",
            "  (0, 5139)\t1\n",
            "  (0, 5256)\t2\n",
            "  (0, 6275)\t1\n",
            "  (0, 8521)\t1\n",
            "  (0, 10646)\t1\n",
            "  (0, 10647)\t1\n",
            "  (0, 11128)\t2\n",
            "  (0, 11479)\t1\n",
            "  (0, 11779)\t1\n",
            "  (0, 12206)\t2\n",
            "  (0, 12221)\t1\n",
            "  (0, 12297)\t1\n",
            "  (0, 12386)\t1\n",
            "  (0, 12675)\t1\n",
            "  (0, 12689)\t1\n",
            "  (0, 13135)\t1\n",
            "  (0, 13186)\t1\n",
            "  (0, 14247)\t1\n",
            "  (0, 15385)\t1\n",
            "  (0, 16292)\t1\n",
            "  (0, 16412)\t1\n",
            "  :\t:\n",
            "  (0, 23318)\t1\n",
            "  (0, 23801)\t1\n",
            "  (0, 23902)\t1\n",
            "  (0, 23976)\t1\n",
            "  (0, 24080)\t1\n",
            "  (0, 24177)\t1\n",
            "  (0, 24544)\t2\n",
            "  (0, 24972)\t2\n",
            "  (0, 26383)\t1\n",
            "  (0, 26543)\t1\n",
            "  (0, 26978)\t1\n",
            "  (0, 27029)\t1\n",
            "  (0, 27068)\t1\n",
            "  (0, 28403)\t1\n",
            "  (0, 28735)\t1\n",
            "  (0, 29230)\t1\n",
            "  (0, 29313)\t1\n",
            "  (0, 29620)\t1\n",
            "  (0, 30135)\t1\n",
            "  (0, 30240)\t1\n",
            "  (0, 30471)\t1\n",
            "  (0, 30488)\t1\n",
            "  (0, 30672)\t1\n",
            "  (0, 30854)\t1\n",
            "  (0, 30900)\t1\n",
            "Getting the words back:\n",
            "hygienist\n",
            "absence\n"
          ],
          "name": "stdout"
        }
      ]
    },
    {
      "cell_type": "code",
      "metadata": {
        "colab": {
          "base_uri": "https://localhost:8080/"
        },
        "id": "lxgLlfiL1kmn",
        "outputId": "68463bc0-5798-46ff-c4dd-4d71ba3e61c9"
      },
      "source": [
        "x = vocab.transform(x)\r\n",
        "#Shape of the matrix:\r\n",
        "print(\"Shape of the sparse matrix: \", x.shape)\r\n",
        "#Non-zero occurences:\r\n",
        "print(\"Non-Zero occurences: \",x.nnz)\r\n",
        "\r\n",
        "# DENSITY OF THE MATRIX\r\n",
        "density = (x.nnz/(x.shape[0]*x.shape[1]))*100\r\n",
        "print(\"Density of the matrix = \",density)"
      ],
      "execution_count": 22,
      "outputs": [
        {
          "output_type": "stream",
          "text": [
            "Shape of the sparse matrix:  (5547, 31336)\n",
            "Non-Zero occurences:  312457\n",
            "Density of the matrix =  0.17975812697942373\n"
          ],
          "name": "stdout"
        }
      ]
    },
    {
      "cell_type": "code",
      "metadata": {
        "id": "wCnC4a6e2Lja"
      },
      "source": [
        "# SPLITTING THE DATASET INTO TRAINING SET AND TESTING SET\r\n",
        "x_train,x_test,y_train,y_test = train_test_split(x,y,test_size=0.2,random_state=101)"
      ],
      "execution_count": 24,
      "outputs": []
    },
    {
      "cell_type": "code",
      "metadata": {
        "colab": {
          "base_uri": "https://localhost:8080/"
        },
        "id": "qrORU6_X2Ry9",
        "outputId": "18f70149-6159-488c-e71c-677e8fea4383"
      },
      "source": [
        "# Multinomial Naive Bayes\r\n",
        "from sklearn.naive_bayes import MultinomialNB\r\n",
        "mnb = MultinomialNB()\r\n",
        "mnb.fit(x_train,y_train)\r\n",
        "predmnb = mnb.predict(x_test)\r\n",
        "print(\"Confusion Matrix for Multinomial Naive Bayes:\")\r\n",
        "print(confusion_matrix(y_test,predmnb))\r\n",
        "print(\"Score:\",round(accuracy_score(y_test,predmnb)*100,2))\r\n",
        "print(\"Classification Report:\",classification_report(y_test,predmnb))"
      ],
      "execution_count": 25,
      "outputs": [
        {
          "output_type": "stream",
          "text": [
            "Confusion Matrix for Multinomial Naive Bayes:\n",
            "[[ 75  49  38]\n",
            " [  7 180 105]\n",
            " [ 12  45 599]]\n",
            "Score: 76.94\n",
            "Classification Report:               precision    recall  f1-score   support\n",
            "\n",
            "           1       0.80      0.46      0.59       162\n",
            "           3       0.66      0.62      0.64       292\n",
            "           5       0.81      0.91      0.86       656\n",
            "\n",
            "    accuracy                           0.77      1110\n",
            "   macro avg       0.75      0.66      0.69      1110\n",
            "weighted avg       0.77      0.77      0.76      1110\n",
            "\n"
          ],
          "name": "stdout"
        }
      ]
    },
    {
      "cell_type": "code",
      "metadata": {
        "colab": {
          "base_uri": "https://localhost:8080/"
        },
        "id": "Jeho6Zab2caS",
        "outputId": "705644c2-ae3b-4bd4-aac3-247cdb054602"
      },
      "source": [
        "# Decision Tree\r\n",
        "from sklearn.tree import DecisionTreeClassifier\r\n",
        "dt = DecisionTreeClassifier()\r\n",
        "dt.fit(x_train,y_train)\r\n",
        "preddt = dt.predict(x_test)\r\n",
        "print(\"Confusion Matrix for Decision Tree:\")\r\n",
        "print(confusion_matrix(y_test,preddt))\r\n",
        "print(\"Score:\",round(accuracy_score(y_test,preddt)*100,2))\r\n",
        "print(\"Classification Report:\",classification_report(y_test,preddt))"
      ],
      "execution_count": 26,
      "outputs": [
        {
          "output_type": "stream",
          "text": [
            "Confusion Matrix for Decision Tree:\n",
            "[[ 61  42  59]\n",
            " [ 31 139 122]\n",
            " [ 42  92 522]]\n",
            "Score: 65.05\n",
            "Classification Report:               precision    recall  f1-score   support\n",
            "\n",
            "           1       0.46      0.38      0.41       162\n",
            "           3       0.51      0.48      0.49       292\n",
            "           5       0.74      0.80      0.77       656\n",
            "\n",
            "    accuracy                           0.65      1110\n",
            "   macro avg       0.57      0.55      0.56      1110\n",
            "weighted avg       0.64      0.65      0.64      1110\n",
            "\n"
          ],
          "name": "stdout"
        }
      ]
    },
    {
      "cell_type": "code",
      "metadata": {
        "colab": {
          "base_uri": "https://localhost:8080/"
        },
        "id": "mlsduIoQ2r8P",
        "outputId": "5ebb2489-eb85-4f84-a8e9-27df7cdb6db0"
      },
      "source": [
        "# MULTILAYER PERCEPTRON CLASSIFIER\r\n",
        "from sklearn.neural_network import MLPClassifier\r\n",
        "mlp = MLPClassifier()\r\n",
        "mlp.fit(x_train,y_train)\r\n",
        "predmlp = mlp.predict(x_test)\r\n",
        "print(\"Confusion Matrix for Multilayer Perceptron Classifier:\")\r\n",
        "print(confusion_matrix(y_test,predmlp))\r\n",
        "print(\"Score:\",round(accuracy_score(y_test,predmlp)*100,2))\r\n",
        "print(\"Classification Report:\")\r\n",
        "print(classification_report(y_test,predmlp))"
      ],
      "execution_count": 27,
      "outputs": [
        {
          "output_type": "stream",
          "text": [
            "Confusion Matrix for Multilayer Perceptron Classifier:\n",
            "[[ 92  37  33]\n",
            " [ 19 189  84]\n",
            " [ 10  62 584]]\n",
            "Score: 77.93\n",
            "Classification Report:\n",
            "              precision    recall  f1-score   support\n",
            "\n",
            "           1       0.76      0.57      0.65       162\n",
            "           3       0.66      0.65      0.65       292\n",
            "           5       0.83      0.89      0.86       656\n",
            "\n",
            "    accuracy                           0.78      1110\n",
            "   macro avg       0.75      0.70      0.72      1110\n",
            "weighted avg       0.78      0.78      0.78      1110\n",
            "\n"
          ],
          "name": "stdout"
        }
      ]
    },
    {
      "cell_type": "code",
      "metadata": {
        "id": "XvV2mlQJ3RP4"
      },
      "source": [
        ""
      ],
      "execution_count": null,
      "outputs": []
    },
    {
      "cell_type": "markdown",
      "metadata": {
        "id": "5cbTHnB63R5D"
      },
      "source": [
        "Since multilayer perceptron classifier has the best score, let us use it to predict a random positive review, a random average review and a random negative review!"
      ]
    },
    {
      "cell_type": "code",
      "metadata": {
        "colab": {
          "base_uri": "https://localhost:8080/"
        },
        "id": "nAw5AKCf3WqE",
        "outputId": "dfc84227-5c53-4e25-d0dc-67ab38b8f006"
      },
      "source": [
        "# POSITIVE REVIEW\r\n",
        "pr = data['text'][0]\r\n",
        "print(pr)\r\n",
        "print(\"Actual Rating: \",data['stars'][0])\r\n",
        "pr_t = vocab.transform([pr])\r\n",
        "print(\"Predicted Rating:\")\r\n",
        "mlp.predict(pr_t)[0]"
      ],
      "execution_count": 28,
      "outputs": [
        {
          "output_type": "stream",
          "text": [
            "My wife took me here on my birthday for breakfast and it was excellent.  The weather was perfect which made sitting outside overlooking their grounds an absolute pleasure.  Our waitress was excellent and our food arrived quickly on the semi-busy Saturday morning.  It looked like the place fills up pretty quickly so the earlier you get here the better.\n",
            "\n",
            "Do yourself a favor and get their Bloody Mary.  It was phenomenal and simply the best I've ever had.  I'm pretty sure they only use ingredients from their garden and blend them fresh when you order it.  It was amazing.\n",
            "\n",
            "While EVERYTHING on the menu looks excellent, I had the white truffle scrambled eggs vegetable skillet and it was tasty and delicious.  It came with 2 pieces of their griddled bread with was amazing and it absolutely made the meal complete.  It was the best \"toast\" I've ever had.\n",
            "\n",
            "Anyway, I can't wait to go back!\n",
            "Actual Rating:  5\n",
            "Predicted Rating:\n"
          ],
          "name": "stdout"
        },
        {
          "output_type": "execute_result",
          "data": {
            "text/plain": [
              "5"
            ]
          },
          "metadata": {
            "tags": []
          },
          "execution_count": 28
        }
      ]
    },
    {
      "cell_type": "code",
      "metadata": {
        "colab": {
          "base_uri": "https://localhost:8080/"
        },
        "id": "F5gNYiBp3gN_",
        "outputId": "a5cc0bb5-e44a-4d21-8f83-81fb9f9e940b"
      },
      "source": [
        "# AVERAGE REVIEW\r\n",
        "ar = data['text'][16]\r\n",
        "print(ar)\r\n",
        "print(\"Actual Rating: \",data['stars'][16])\r\n",
        "ar_t = vocab.transform([ar])\r\n",
        "print(\"Predicted Rating:\")\r\n",
        "mlp.predict(ar_t)[0]"
      ],
      "execution_count": 29,
      "outputs": [
        {
          "output_type": "stream",
          "text": [
            "We went here on a Saturday afternoon and this place was incredibly empty.  They had brunch specials going on, including $2 bloody mary's and mimosas, but we were more in the mood for lunch.  Except for the bloody mary, I had to try one.  It came out in a high-ball-sized glass.  Boo!  But it was really tasty. Yay!  The hubby remembered a sign outside the restaurant a few weeks back that said they had Arrogant Bastard, and he got a 22 oz bottle for $4.75.  Hey, that's not fair!!\n",
            "\n",
            "Next up: the wings.  We were a bit hesitant to order them when the waitress informed us that they are \"seasoned\" but not sauced, so they can't be ordered hot.  We did ask for them crispy though, and the waitress even asked the cooks to throw them back in for a few minutes when they came out not visibly crispy.  These non-traditional wings were actually pretty damn good.  The seasoning was a little spicy and salty with just a hint of sweet.  If I were in the mood for the tang and kick of Frank's Hot Sauce, these wouldn't cut it, but otherwise they were good enough to go back again for.\n",
            "\n",
            "My entree was the Tilapia salad, and I was a bit disappointed.  The fish was a bit dry and uninspired. And the greens underneath were overdressed and wilted.  I ate the greens around the fish and picked out the almonds and Mandarin oranges, but I had to leave the mush hiding underneath the fish.\n",
            "\n",
            "It wasn't bad enough to say I wouldn't go back, but I won't be anxiously awaiting my next trip.\n",
            "Actual Rating:  3\n",
            "Predicted Rating:\n"
          ],
          "name": "stdout"
        },
        {
          "output_type": "execute_result",
          "data": {
            "text/plain": [
              "3"
            ]
          },
          "metadata": {
            "tags": []
          },
          "execution_count": 29
        }
      ]
    },
    {
      "cell_type": "code",
      "metadata": {
        "colab": {
          "base_uri": "https://localhost:8080/"
        },
        "id": "V9ykNcCm3iDl",
        "outputId": "905618f7-102d-4b08-cf5b-b1061d600680"
      },
      "source": [
        "# NEGATIVE REVIEW\r\n",
        "nr = data['text'][16]\r\n",
        "print(nr)\r\n",
        "print(\"Actual Rating: \",data['stars'][23])\r\n",
        "nr_t = vocab.transform([nr])\r\n",
        "print(\"Predicted Rating:\")\r\n",
        "mlp.predict(nr_t)[0]"
      ],
      "execution_count": 30,
      "outputs": [
        {
          "output_type": "stream",
          "text": [
            "We went here on a Saturday afternoon and this place was incredibly empty.  They had brunch specials going on, including $2 bloody mary's and mimosas, but we were more in the mood for lunch.  Except for the bloody mary, I had to try one.  It came out in a high-ball-sized glass.  Boo!  But it was really tasty. Yay!  The hubby remembered a sign outside the restaurant a few weeks back that said they had Arrogant Bastard, and he got a 22 oz bottle for $4.75.  Hey, that's not fair!!\n",
            "\n",
            "Next up: the wings.  We were a bit hesitant to order them when the waitress informed us that they are \"seasoned\" but not sauced, so they can't be ordered hot.  We did ask for them crispy though, and the waitress even asked the cooks to throw them back in for a few minutes when they came out not visibly crispy.  These non-traditional wings were actually pretty damn good.  The seasoning was a little spicy and salty with just a hint of sweet.  If I were in the mood for the tang and kick of Frank's Hot Sauce, these wouldn't cut it, but otherwise they were good enough to go back again for.\n",
            "\n",
            "My entree was the Tilapia salad, and I was a bit disappointed.  The fish was a bit dry and uninspired. And the greens underneath were overdressed and wilted.  I ate the greens around the fish and picked out the almonds and Mandarin oranges, but I had to leave the mush hiding underneath the fish.\n",
            "\n",
            "It wasn't bad enough to say I wouldn't go back, but I won't be anxiously awaiting my next trip.\n",
            "Actual Rating:  1\n",
            "Predicted Rating:\n"
          ],
          "name": "stdout"
        },
        {
          "output_type": "execute_result",
          "data": {
            "text/plain": [
              "3"
            ]
          },
          "metadata": {
            "tags": []
          },
          "execution_count": 30
        }
      ]
    },
    {
      "cell_type": "code",
      "metadata": {
        "colab": {
          "base_uri": "https://localhost:8080/"
        },
        "id": "2tKBOt8g3mZo",
        "outputId": "4166eb86-76cb-4cab-f075-48f6a390f23c"
      },
      "source": [
        "count = data['stars'].value_counts()\r\n",
        "print(count)"
      ],
      "execution_count": 31,
      "outputs": [
        {
          "output_type": "stream",
          "text": [
            "4    3526\n",
            "5    3337\n",
            "3    1461\n",
            "2     927\n",
            "1     749\n",
            "Name: stars, dtype: int64\n"
          ],
          "name": "stdout"
        }
      ]
    }
  ]
}